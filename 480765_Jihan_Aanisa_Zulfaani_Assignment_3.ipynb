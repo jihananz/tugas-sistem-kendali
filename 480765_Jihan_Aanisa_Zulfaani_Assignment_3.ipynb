{
  "nbformat": 4,
  "nbformat_minor": 0,
  "metadata": {
    "colab": {
      "provenance": []
    },
    "kernelspec": {
      "name": "python3",
      "display_name": "Python 3"
    },
    "language_info": {
      "name": "python"
    }
  },
  "cells": [
    {
      "cell_type": "markdown",
      "source": [
        "# Nama  : Jihan Aanisa Zulfaani\n",
        "# Nim   : 21/480765/PA/20904\n",
        "# Tugas : Assignment 3"
      ],
      "metadata": {
        "id": "B3jVd_jyAUGN"
      }
    },
    {
      "cell_type": "code",
      "source": [
        "%pip install tbcontrol\n"
      ],
      "metadata": {
        "colab": {
          "base_uri": "https://localhost:8080/"
        },
        "id": "Uu_AFbjQ_OBD",
        "outputId": "29c323bd-9cb7-4274-ff45-4b1b3a94aeee"
      },
      "execution_count": 25,
      "outputs": [
        {
          "output_type": "stream",
          "name": "stdout",
          "text": [
            "Looking in indexes: https://pypi.org/simple, https://us-python.pkg.dev/colab-wheels/public/simple/\n",
            "Requirement already satisfied: tbcontrol in /usr/local/lib/python3.7/dist-packages (0.2.1)\n",
            "Requirement already satisfied: numpy in /usr/local/lib/python3.7/dist-packages (from tbcontrol) (1.21.6)\n",
            "Requirement already satisfied: packaging in /usr/local/lib/python3.7/dist-packages (from tbcontrol) (21.3)\n",
            "Requirement already satisfied: scipy in /usr/local/lib/python3.7/dist-packages (from tbcontrol) (1.7.3)\n",
            "Requirement already satisfied: tqdm in /usr/local/lib/python3.7/dist-packages (from tbcontrol) (4.64.0)\n",
            "Requirement already satisfied: pyparsing!=3.0.5,>=2.0.2 in /usr/local/lib/python3.7/dist-packages (from packaging->tbcontrol) (3.0.9)\n"
          ]
        }
      ]
    },
    {
      "cell_type": "code",
      "execution_count": 26,
      "metadata": {
        "id": "ZCwnVZ9w-dhl"
      },
      "outputs": [],
      "source": [
        "import numpy as np\n",
        "import sympy as sp\n",
        "sp.init_printing()\n",
        "from tbcontrol.symbolic import routh as rt\n",
        "from IPython.core.interactiveshell import InteractiveShell\n",
        "InteractiveShell.ast_node_interactivity = 'all'\n",
        "from ipywidgets import interact"
      ]
    },
    {
      "cell_type": "code",
      "source": [
        "s = sp.Symbol('s')"
      ],
      "metadata": {
        "id": "61nKBHyN-mdR"
      },
      "execution_count": 27,
      "outputs": []
    },
    {
      "cell_type": "code",
      "source": [
        "G = 700/((s+15)*(s**2+4*s+500))\n",
        "G"
      ],
      "metadata": {
        "colab": {
          "base_uri": "https://localhost:8080/",
          "height": 55
        },
        "id": "IGdtfaMZ-r5s",
        "outputId": "a0625487-54a8-434d-c8b2-c4b70633799c"
      },
      "execution_count": 28,
      "outputs": [
        {
          "output_type": "execute_result",
          "data": {
            "text/plain": [
              "           700           \n",
              "─────────────────────────\n",
              "         ⎛ 2            ⎞\n",
              "(s + 15)⋅⎝s  + 4⋅s + 500⎠"
            ],
            "image/png": "[encoded data removed]",
            "text/latex": "$\\displaystyle \\frac{700}{\\left(s + 15\\right) \\left(s^{2} + 4 s + 500\\right)}$"
          },
          "metadata": {},
          "execution_count": 28
        }
      ]
    },
    {
      "cell_type": "code",
      "source": [
        "poly = sp.denom(G)\n",
        "poly"
      ],
      "metadata": {
        "colab": {
          "base_uri": "https://localhost:8080/",
          "height": 38
        },
        "id": "ld8LuQ3W-v-A",
        "outputId": "522a4db5-0a50-43b4-9e7b-a7d068711ba1"
      },
      "execution_count": 29,
      "outputs": [
        {
          "output_type": "execute_result",
          "data": {
            "text/plain": [
              "         ⎛ 2            ⎞\n",
              "(s + 15)⋅⎝s  + 4⋅s + 500⎠"
            ],
            "image/png": "[encoded data removed]",
            "text/latex": "$\\displaystyle \\left(s + 15\\right) \\left(s^{2} + 4 s + 500\\right)$"
          },
          "metadata": {},
          "execution_count": 29
        }
      ]
    },
    {
      "cell_type": "code",
      "source": [
        "roots = sp.solve(poly.as_poly())\n",
        "roots"
      ],
      "metadata": {
        "colab": {
          "base_uri": "https://localhost:8080/",
          "height": 47
        },
        "id": "eUSsuDAC-yHB",
        "outputId": "04181e89-ec71-4c37-bd11-967c38e4c876"
      },
      "execution_count": 30,
      "outputs": [
        {
          "output_type": "execute_result",
          "data": {
            "text/plain": [
              "[-15, -2 - 4⋅√31⋅ⅈ, -2 + 4⋅√31⋅ⅈ]"
            ],
            "image/png": "[encoded data removed]",
            "text/latex": "$\\displaystyle \\left[ -15, \\  -2 - 4 \\sqrt{31} i, \\  -2 + 4 \\sqrt{31} i\\right]$"
          },
          "metadata": {},
          "execution_count": 30
        }
      ]
    },
    {
      "cell_type": "code",
      "source": [
        "print('Pole s1 =')\n",
        "roots[0]\n",
        "print('Pole s2 =')\n",
        "roots[1]\n",
        "print('Pole s3 =')\n",
        "roots[2]"
      ],
      "metadata": {
        "colab": {
          "base_uri": "https://localhost:8080/",
          "height": 134
        },
        "id": "cveoxp-6-1We",
        "outputId": "97da0e8c-3750-4eaa-8d0c-e066d165a772"
      },
      "execution_count": 31,
      "outputs": [
        {
          "output_type": "stream",
          "name": "stdout",
          "text": [
            "Pole s1 =\n"
          ]
        },
        {
          "output_type": "execute_result",
          "data": {
            "text/plain": [
              "-15"
            ],
            "image/png": "[encoded data removed]",
            "text/latex": "$\\displaystyle -15$"
          },
          "metadata": {},
          "execution_count": 31
        },
        {
          "output_type": "stream",
          "name": "stdout",
          "text": [
            "Pole s2 =\n"
          ]
        },
        {
          "output_type": "execute_result",
          "data": {
            "text/plain": [
              "-2 - 4⋅√31⋅ⅈ"
            ],
            "image/png": "[encoded data removed]",
            "text/latex": "$\\displaystyle -2 - 4 \\sqrt{31} i$"
          },
          "metadata": {},
          "execution_count": 31
        },
        {
          "output_type": "stream",
          "name": "stdout",
          "text": [
            "Pole s3 =\n"
          ]
        },
        {
          "output_type": "execute_result",
          "data": {
            "text/plain": [
              "-2 + 4⋅√31⋅ⅈ"
            ],
            "image/png": "[encoded data removed]",
            "text/latex": "$\\displaystyle -2 + 4 \\sqrt{31} i$"
          },
          "metadata": {},
          "execution_count": 31
        }
      ]
    },
    {
      "cell_type": "code",
      "source": [
        "routh = rt(poly.as_poly())\n",
        "routh"
      ],
      "metadata": {
        "colab": {
          "base_uri": "https://localhost:8080/",
          "height": 98
        },
        "id": "r9UwBMLu-4RG",
        "outputId": "5a3715db-4e49-4097-ae45-a423df1a66e0"
      },
      "execution_count": 32,
      "outputs": [
        {
          "output_type": "execute_result",
          "data": {
            "text/plain": [
              "⎡ 1    560 ⎤\n",
              "⎢          ⎥\n",
              "⎢ 19   7500⎥\n",
              "⎢          ⎥\n",
              "⎢3140      ⎥\n",
              "⎢────   0  ⎥\n",
              "⎢ 19       ⎥\n",
              "⎢          ⎥\n",
              "⎣7500   0  ⎦"
            ],
            "text/latex": "$\\displaystyle \\left[\\begin{matrix}1 & 560\\\\19 & 7500\\\\\\frac{3140}{19} & 0\\\\7500 & 0\\end{matrix}\\right]$"
          },
          "metadata": {},
          "execution_count": 32
        }
      ]
    },
    {
      "cell_type": "code",
      "source": [
        "tabel = np.array(routh)\n",
        "stabil = 1\n",
        "for i in range(len(tabel)):\n",
        "        if tabel[i][0] < 0:\n",
        "            stabil = 0\n",
        "            break\n",
        "if stabil == 1:\n",
        "    print(\"Sistem stabil karena semua nilai di kolom pertama positif\")\n",
        "else:\n",
        "    print(\"Sistem tidak stabil karena ada nilai negatif di kolom pertama\")\n"
      ],
      "metadata": {
        "colab": {
          "base_uri": "https://localhost:8080/"
        },
        "id": "WeGYA61Q-6SU",
        "outputId": "72b4e35d-1d44-4f7e-fb43-dfe4b89121c2"
      },
      "execution_count": 33,
      "outputs": [
        {
          "output_type": "stream",
          "name": "stdout",
          "text": [
            "Sistem stabil karena semua nilai di kolom pertama positif\n"
          ]
        }
      ]
    },
    {
      "cell_type": "code",
      "source": [
        "K = int(input(\"Masukan nilai K = \"))\n",
        "GK = K/((s*(s**2+s+1)*(s+2))+K)\n",
        "poly = sp.denom(GK)\n",
        "routh = rt(poly.as_poly())\n",
        "print(\"G(s) = \")\n",
        "poly\n",
        "print(\"Tabel Routh = \")\n",
        "routh"
      ],
      "metadata": {
        "colab": {
          "base_uri": "https://localhost:8080/",
          "height": 192
        },
        "id": "MB1jX0nE_AV1",
        "outputId": "f2551f38-e141-4ee8-c691-df96a4c04a49"
      },
      "execution_count": 34,
      "outputs": [
        {
          "output_type": "stream",
          "name": "stdout",
          "text": [
            "Masukan nilai K = 5\n",
            "G(s) = \n"
          ]
        },
        {
          "output_type": "execute_result",
          "data": {
            "text/plain": [
              "          ⎛ 2        ⎞    \n",
              "s⋅(s + 2)⋅⎝s  + s + 1⎠ + 5"
            ],
            "image/png": "[encoded data removed]",
            "text/latex": "$\\displaystyle s \\left(s + 2\\right) \\left(s^{2} + s + 1\\right) + 5$"
          },
          "metadata": {},
          "execution_count": 34
        },
        {
          "output_type": "stream",
          "name": "stdout",
          "text": [
            "Tabel Routh = \n"
          ]
        },
        {
          "output_type": "execute_result",
          "data": {
            "text/plain": [
              "⎡  1    3  5⎤\n",
              "⎢           ⎥\n",
              "⎢  3    2  0⎥\n",
              "⎢           ⎥\n",
              "⎢ 7/3   5  0⎥\n",
              "⎢           ⎥\n",
              "⎢-31/7  0  0⎥\n",
              "⎢           ⎥\n",
              "⎣  5    0  0⎦"
            ],
            "text/latex": "$\\displaystyle \\left[\\begin{matrix}1 & 3 & 5\\\\3 & 2 & 0\\\\\\frac{7}{3} & 5 & 0\\\\- \\frac{31}{7} & 0 & 0\\\\5 & 0 & 0\\end{matrix}\\right]$"
          },
          "metadata": {},
          "execution_count": 34
        }
      ]
    }
  ]
}